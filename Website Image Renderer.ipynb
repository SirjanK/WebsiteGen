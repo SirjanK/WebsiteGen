{
 "cells": [
  {
   "cell_type": "markdown",
   "metadata": {},
   "source": [
    "# Website Image Renderer"
   ]
  },
  {
   "cell_type": "code",
   "execution_count": 36,
   "metadata": {
    "collapsed": false
   },
   "outputs": [],
   "source": [
    "from selenium import webdriver\n",
    "import pandas\n",
    "import time\n",
    "import os"
   ]
  },
  {
   "cell_type": "code",
   "execution_count": 16,
   "metadata": {
    "collapsed": false
   },
   "outputs": [],
   "source": [
    "driver = webdriver.Chrome()"
   ]
  },
  {
   "cell_type": "code",
   "execution_count": 29,
   "metadata": {
    "collapsed": false
   },
   "outputs": [],
   "source": [
    "websites_dataframe = pandas.read_csv('top-1m.csv')\n",
    "website_urls = websites_dataframe.iloc[:,1]"
   ]
  },
  {
   "cell_type": "code",
   "execution_count": 33,
   "metadata": {
    "collapsed": true
   },
   "outputs": [],
   "source": [
    "def save_website_image(driver, url, filename):\n",
    "    driver.get(url)\n",
    "    driver.save_screenshot(filename)"
   ]
  },
  {
   "cell_type": "code",
   "execution_count": 37,
   "metadata": {
    "collapsed": true
   },
   "outputs": [],
   "source": [
    "URL_COUNT = 100\n",
    "\n",
    "def save_website_images(driver, urls, dirname):\n",
    "    url_counter = URL_COUNT\n",
    "    if not os.path.exists(dirname):\n",
    "        os.makedirs(dirname)\n",
    "    for url in urls:\n",
    "        driver.get('http://' + url)\n",
    "        driver.save_screenshot(dirname + '/' + str(url_counter) + '.png')\n",
    "        url_counter -= 1\n",
    "        if url_counter == 0:\n",
    "            return"
   ]
  },
  {
   "cell_type": "code",
   "execution_count": 35,
   "metadata": {
    "collapsed": false
   },
   "outputs": [
    {
     "name": "stdout",
     "output_type": "stream",
     "text": [
      "Elapsed time: 477.8967583179474\n",
      "Number of URLs saved: 100\n",
      "Average time per URL: 4.778967583179474\n"
     ]
    }
   ],
   "source": [
    "start_time = time.time()\n",
    "save_website_images(driver, website_urls, 'random_sites')\n",
    "elapsed_time = time.time() - start_time\n",
    "print('Elapsed time:', elapsed_time)\n",
    "print('Number of URLs saved:', URL_COUNT)\n",
    "print('Average time per URL:', elapsed_time / URL_COUNT)"
   ]
  },
  {
   "cell_type": "code",
   "execution_count": null,
   "metadata": {
    "collapsed": true
   },
   "outputs": [],
   "source": [
    "driver.close()"
   ]
  }
 ],
 "metadata": {
  "anaconda-cloud": {},
  "kernelspec": {
   "display_name": "Python [default]",
   "language": "python",
   "name": "python3"
  },
  "language_info": {
   "codemirror_mode": {
    "name": "ipython",
    "version": 3
   },
   "file_extension": ".py",
   "mimetype": "text/x-python",
   "name": "python",
   "nbconvert_exporter": "python",
   "pygments_lexer": "ipython3",
   "version": "3.5.2"
  }
 },
 "nbformat": 4,
 "nbformat_minor": 1
}
