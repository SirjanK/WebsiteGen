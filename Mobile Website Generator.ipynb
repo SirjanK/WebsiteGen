{
 "cells": [
  {
   "cell_type": "markdown",
   "metadata": {},
   "source": [
    "# Mobile Website Generator"
   ]
  },
  {
   "cell_type": "code",
   "execution_count": 16,
   "metadata": {
    "collapsed": true
   },
   "outputs": [],
   "source": [
    "from selenium import webdriver\n",
    "import pandas\n",
    "import time\n",
    "import os\n",
    "import numpy as np\n",
    "import signal"
   ]
  },
  {
   "cell_type": "code",
   "execution_count": 17,
   "metadata": {
    "collapsed": true
   },
   "outputs": [],
   "source": [
    "base = 430\n",
    "bound = 499"
   ]
  },
  {
   "cell_type": "code",
   "execution_count": 18,
   "metadata": {
    "collapsed": false
   },
   "outputs": [],
   "source": [
    "websites_dataframe = pandas.read_csv('top-1m.csv', header=None)\n",
    "website_urls = websites_dataframe.iloc[:,1].values\n",
    "urls_to_process = website_urls[list(range(base, bound + 1))]"
   ]
  },
  {
   "cell_type": "code",
   "execution_count": 19,
   "metadata": {
    "collapsed": true
   },
   "outputs": [],
   "source": [
    "def save_website_image(driver, url, filename):\n",
    "    driver.get(url)\n",
    "    driver.save_screenshot(filename)"
   ]
  },
  {
   "cell_type": "code",
   "execution_count": 20,
   "metadata": {
    "collapsed": true
   },
   "outputs": [],
   "source": [
    "TIMEOUT_SEC = 20\n",
    "\n",
    "class TimeoutException(Exception):\n",
    "    pass\n",
    "\n",
    "def timeout_handler(signum, frame):\n",
    "    raise TimeoutException\n",
    "    \n",
    "signal.signal(signal.SIGALRM, timeout_handler)\n",
    "\n",
    "def save_website_images(driver, urls, dirname):\n",
    "    url_counter = base\n",
    "    if not os.path.exists(dirname):\n",
    "        os.makedirs(dirname)\n",
    "    for url in urls:\n",
    "        signal.alarm(TIMEOUT_SEC)\n",
    "        \n",
    "        try:\n",
    "            driver.get('http://' + url)\n",
    "            driver.save_screenshot(dirname + '/' + str(url_counter) + '.png')\n",
    "            url_counter += 1\n",
    "        except Exception:\n",
    "            continue\n",
    "        else:\n",
    "            signal.alarm(0)\n",
    "    return url_counter - base"
   ]
  },
  {
   "cell_type": "code",
   "execution_count": 21,
   "metadata": {
    "collapsed": true
   },
   "outputs": [],
   "source": [
    "def save_mobile_website_images(urls, dirname):\n",
    "    mobile_emulation = { \"deviceName\": \"Nexus 5\" }\n",
    "    chrome_options = webdriver.ChromeOptions()\n",
    "    chrome_options.add_experimental_option(\"mobileEmulation\", mobile_emulation)\n",
    "    driver = webdriver.Remote(command_executor='http://127.0.0.1:4444/wd/hub',\n",
    "                              desired_capabilities = chrome_options.to_capabilities())\n",
    "    \n",
    "    return save_website_images(driver, urls, dirname)"
   ]
  },
  {
   "cell_type": "code",
   "execution_count": 22,
   "metadata": {
    "collapsed": false
   },
   "outputs": [
    {
     "name": "stdout",
     "output_type": "stream",
     "text": [
      "Elapsed time: 791.7857728004456\n",
      "Number of URLs saved: 39\n",
      "Average time per URL: 20.302199302575527\n"
     ]
    }
   ],
   "source": [
    "start_time = time.time()\n",
    "url_count = save_mobile_website_images(urls_to_process, 'random_sites_mobile')\n",
    "elapsed_time = time.time() - start_time\n",
    "print('Elapsed time:', elapsed_time)\n",
    "print('Number of URLs saved:', url_count)\n",
    "print('Average time per URL:', elapsed_time / url_count)"
   ]
  },
  {
   "cell_type": "code",
   "execution_count": null,
   "metadata": {
    "collapsed": true
   },
   "outputs": [],
   "source": []
  }
 ],
 "metadata": {
  "kernelspec": {
   "display_name": "Python [default]",
   "language": "python",
   "name": "python3"
  },
  "language_info": {
   "codemirror_mode": {
    "name": "ipython",
    "version": 3
   },
   "file_extension": ".py",
   "mimetype": "text/x-python",
   "name": "python",
   "nbconvert_exporter": "python",
   "pygments_lexer": "ipython3",
   "version": "3.5.2"
  }
 },
 "nbformat": 4,
 "nbformat_minor": 1
}
