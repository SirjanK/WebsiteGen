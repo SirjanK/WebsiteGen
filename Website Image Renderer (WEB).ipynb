{
 "cells": [
  {
   "cell_type": "markdown",
   "metadata": {},
   "source": [
    "# Website Image Renderer (WEB)"
   ]
  },
  {
   "cell_type": "code",
   "execution_count": 3,
   "metadata": {
    "collapsed": false
   },
   "outputs": [],
   "source": [
    "from selenium import webdriver\n",
    "import pandas\n",
    "import time\n",
    "import os\n",
    "import numpy as np\n",
    "import signal"
   ]
  },
  {
   "cell_type": "code",
   "execution_count": 39,
   "metadata": {
    "collapsed": true
   },
   "outputs": [],
   "source": [
    "name = 'Sirjan' ######TODO: INSERT NAME\n",
    "\n",
    "if name == 'Sirjan':\n",
    "    base = 228\n",
    "    bound = 4999\n",
    "    alt_base = 20000\n",
    "    alt_bound = 29999\n",
    "elif name == 'Jeffrey':\n",
    "    base = 5000\n",
    "    bound = 9999\n",
    "    alt_base = 30000\n",
    "    alt_bound = 39999\n",
    "elif name == 'Leon':\n",
    "    base = 10000\n",
    "    bound = 14999\n",
    "    alt_base = 40000\n",
    "    alt_bound = 49999\n",
    "elif name == 'Jeremy':\n",
    "    base = 15000\n",
    "    bound = 19999\n",
    "    alt_base = 50000\n",
    "    alt_bound = 60000"
   ]
  },
  {
   "cell_type": "code",
   "execution_count": 4,
   "metadata": {
    "collapsed": false
   },
   "outputs": [],
   "source": [
    "driver = webdriver.Chrome()"
   ]
  },
  {
   "cell_type": "code",
   "execution_count": 36,
   "metadata": {
    "collapsed": false
   },
   "outputs": [
    {
     "data": {
      "text/plain": [
       "True"
      ]
     },
     "execution_count": 36,
     "metadata": {},
     "output_type": "execute_result"
    }
   ],
   "source": [
    "driver.get('https://www.cnn.com')\n",
    "driver.save_screenshot('goog.png')"
   ]
  },
  {
   "cell_type": "code",
   "execution_count": 5,
   "metadata": {
    "collapsed": false
   },
   "outputs": [],
   "source": [
    "websites_dataframe = pandas.read_csv('top-1m.csv', header=None)\n",
    "website_urls = websites_dataframe.iloc[:,1].values\n",
    "urls_to_process = website_urls[list(range(base, bound + 1)) + list(range(alt_base, alt_bound + 1))]"
   ]
  },
  {
   "cell_type": "code",
   "execution_count": 6,
   "metadata": {
    "collapsed": true
   },
   "outputs": [],
   "source": [
    "def save_website_image(driver, url, filename):\n",
    "    driver.get(url)\n",
    "    driver.save_screenshot(filename)"
   ]
  },
  {
   "cell_type": "code",
   "execution_count": 7,
   "metadata": {
    "collapsed": true
   },
   "outputs": [],
   "source": [
    "TIMEOUT_SEC = 20\n",
    "\n",
    "class TimeoutException(Exception):\n",
    "    pass\n",
    "\n",
    "def timeout_handler(signum, frame):\n",
    "    raise TimeoutException\n",
    "    \n",
    "signal.signal(signal.SIGALRM, timeout_handler)\n",
    "\n",
    "def save_website_images(driver, urls, dirname):\n",
    "    url_counter = base\n",
    "    if not os.path.exists(dirname):\n",
    "        os.makedirs(dirname)\n",
    "    for url in urls:\n",
    "        signal.alarm(TIMEOUT_SEC)\n",
    "        \n",
    "        try:\n",
    "            driver.get('http://' + url)\n",
    "            driver.save_screenshot(dirname + '/' + str(url_counter) + '.png')\n",
    "            url_counter += 1\n",
    "        except Exception:\n",
    "            continue\n",
    "        else:\n",
    "            signal.alarm(0)\n",
    "    return url_counter - base"
   ]
  },
  {
   "cell_type": "code",
   "execution_count": 8,
   "metadata": {
    "collapsed": false
   },
   "outputs": [
    {
     "name": "stdout",
     "output_type": "stream",
     "text": [
      "Elapsed time: 24763.92208981514\n",
      "Number of URLs saved: 168\n",
      "Average time per URL: 147.40429815366156\n"
     ]
    }
   ],
   "source": [
    "start_time = time.time()\n",
    "url_count = save_website_images(driver, urls_to_process, 'random_sites')\n",
    "elapsed_time = time.time() - start_time\n",
    "print('Elapsed time:', elapsed_time)\n",
    "print('Number of URLs saved:', url_count)\n",
    "print('Average time per URL:', elapsed_time / url_count)"
   ]
  },
  {
   "cell_type": "code",
   "execution_count": 39,
   "metadata": {
    "collapsed": true
   },
   "outputs": [],
   "source": [
    "driver.close()"
   ]
  },
  {
   "cell_type": "code",
   "execution_count": null,
   "metadata": {
    "collapsed": true
   },
   "outputs": [],
   "source": []
  }
 ],
 "metadata": {
  "anaconda-cloud": {},
  "kernelspec": {
   "display_name": "Python [default]",
   "language": "python",
   "name": "python3"
  },
  "language_info": {
   "codemirror_mode": {
    "name": "ipython",
    "version": 3
   },
   "file_extension": ".py",
   "mimetype": "text/x-python",
   "name": "python",
   "nbconvert_exporter": "python",
   "pygments_lexer": "ipython3",
   "version": "3.5.2"
  }
 },
 "nbformat": 4,
 "nbformat_minor": 1
}
